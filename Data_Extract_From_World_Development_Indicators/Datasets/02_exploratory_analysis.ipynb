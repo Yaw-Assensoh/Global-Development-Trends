{
 "cells": [
  {
   "cell_type": "markdown",
   "id": "aad38733-e9a9-474a-a441-f3d4ca65d18c",
   "metadata": {},
   "source": [
    "# Global Development Trends (2000-2025)"
   ]
  },
  {
   "cell_type": "markdown",
   "id": "6f5d1881-95ba-45fa-9111-33a049eca728",
   "metadata": {},
   "source": [
    "## Notebook 02: Exploratory Visual Ananlysis"
   ]
  },
  {
   "cell_type": "markdown",
   "id": "13cc96a8-bacd-48e6-a031-81ad78613520",
   "metadata": {},
   "source": [
    "### Step 1: Create path,import libraries and load data"
   ]
  },
  {
   "cell_type": "code",
   "execution_count": 1,
   "id": "c661fbed-af05-4e9d-9150-cae3536b13df",
   "metadata": {},
   "outputs": [],
   "source": [
    "# import standard libraries\n",
    "\n",
    "import pandas as pd\n",
    "import numpy as np\n",
    "import matplotlib.pyplot as plt\n",
    "import seaborn as sns\n",
    "import os\n",
    "from os.path import join"
   ]
  },
  {
   "cell_type": "code",
   "execution_count": 8,
   "id": "5f73cbac-0a13-4287-b912-2b61cbffd1b9",
   "metadata": {},
   "outputs": [],
   "source": [
    "# create path\n",
    "\n",
    "path = r'../Users/kevinmcgreen/Desktop/Global-Development-Trends/Data_Extract_From_World_Development_Indicators/Raw and Cleaned Datasets/Clean_Data.csv'"
   ]
  },
  {
   "cell_type": "code",
   "execution_count": 10,
   "id": "d64afe34-283b-471f-b102-78af5cd89622",
   "metadata": {},
   "outputs": [
    {
     "ename": "SyntaxError",
     "evalue": "unterminated string literal (detected at line 3) (1887763421.py, line 3)",
     "output_type": "error",
     "traceback": [
      "\u001b[0;36m  Cell \u001b[0;32mIn[10], line 3\u001b[0;36m\u001b[0m\n\u001b[0;31m    df_clean = pd.read_csv('/Users/kevinmcgreen/Desktop/Global-Development-Trends/Data_Extract_From_World_Development_Indicators/Raw and Cleaned Datasets/Clean_Data.csv'')\u001b[0m\n\u001b[0m                                                                                                                                                                         ^\u001b[0m\n\u001b[0;31mSyntaxError\u001b[0m\u001b[0;31m:\u001b[0m unterminated string literal (detected at line 3)\n"
     ]
    }
   ],
   "source": [
    "# load data\n",
    "\n",
    "df_clean = pd.read_csv('/Users/kevinmcgreen/Desktop/Global-Development-Trends/Data_Extract_From_World_Development_Indicators/Raw and Cleaned Datasets/Clean_Data.csv'')"
   ]
  },
  {
   "cell_type": "code",
   "execution_count": null,
   "id": "5cc79b06-7905-4972-9d3c-787de3430f2e",
   "metadata": {},
   "outputs": [],
   "source": []
  }
 ],
 "metadata": {
  "kernelspec": {
   "display_name": "Python 3 (ipykernel)",
   "language": "python",
   "name": "python3"
  },
  "language_info": {
   "codemirror_mode": {
    "name": "ipython",
    "version": 3
   },
   "file_extension": ".py",
   "mimetype": "text/x-python",
   "name": "python",
   "nbconvert_exporter": "python",
   "pygments_lexer": "ipython3",
   "version": "3.13.5"
  }
 },
 "nbformat": 4,
 "nbformat_minor": 5
}
